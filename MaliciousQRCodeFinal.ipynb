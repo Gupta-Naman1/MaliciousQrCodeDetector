{
 "cells": [
  {
   "cell_type": "code",
   "execution_count": 1,
   "metadata": {
    "id": "dJ3n9PwhnZlY"
   },
   "outputs": [],
   "source": [
    "import pandas as pd\n",
    "import numpy as np\n",
    "import seaborn as sns\n",
    "from sklearn.metrics import confusion_matrix\n",
    "import matplotlib.pyplot as plt\n",
    "import random\n",
    "import cv2\n",
    "import re"
   ]
  },
  {
   "cell_type": "code",
   "execution_count": 2,
   "metadata": {
    "id": "WRmhpb64nf99"
   },
   "outputs": [],
   "source": [
    "from sklearn.model_selection import train_test_split\n",
    "from sklearn.feature_extraction.text import TfidfVectorizer"
   ]
  },
  {
   "cell_type": "code",
   "execution_count": 9,
   "metadata": {
    "id": "Ymy5pdL5nkqO"
   },
   "outputs": [],
   "source": [
    "# QR Code scan\n",
    "def qrScanner ():\n",
    "    \n",
    "    cap = cv2.VideoCapture(0, cv2.CAP_DSHOW)\n",
    "    detector = cv2.QRCodeDetector()\n",
    "    data = None\n",
    "    \n",
    "    while True:\n",
    "        _, img = cap.read()\n",
    "        \n",
    "        # detect and decode\n",
    "        data,bbox, _ = detector.detectAndDecode(img)\n",
    "        \n",
    "        # check for a QR Code in the image\n",
    "        if bbox is not None:\n",
    "            # Image with lines\n",
    "            for i in range(len(bbox)):\n",
    "                cv2.line(img, tuple(bbox[i][0].astype(np.int32)), tuple(bbox[(i+1) % len(bbox)][0].astype(np.int32)), \n",
    "                         color=(255, 0, 0), thickness=2)\n",
    "            if data:\n",
    "                print(\"\\n\\n\\n QR Code detected, URL:\", data)\n",
    "                break\n",
    "        cv2.imshow(\"img\", img)    \n",
    "        if cv2.waitKey(1) == ord(\"q\"):\n",
    "            break\n",
    "            \n",
    "    cv2.waitKey(0)\n",
    "#     cap.release()\n",
    "    cv2.destroyAllWindows()\n",
    "    return data"
   ]
  },
  {
   "cell_type": "code",
   "execution_count": 4,
   "metadata": {
    "id": "1Jiw4ByUnu8B"
   },
   "outputs": [],
   "source": [
    "# tokenizing function\n",
    "def sanitization(web):                      \n",
    "    web = web.lower()\n",
    "    token = []\n",
    "    \n",
    "    # remove / : - . using regex\n",
    "    filtered = re.findall(r'[^/, ^:, ^., ^-]*', web)\n",
    "    \n",
    "    #remove empty strings if any\n",
    "    while '' in filtered :\n",
    "        filtered.remove('')\n",
    "    \n",
    "    # remove same words      \n",
    "    token = list(set(no_dot_slash))\n",
    "    \n",
    "    # remove com    \n",
    "    if 'com' in token:\n",
    "        token.remove('com')      \n",
    "    if 'www' in token:    \n",
    "        token.remove('www')   \n",
    "    if 'https' in token:    \n",
    "        token.remove('https') \n",
    "    if 'http' in token:    \n",
    "        token.remove('http')\n",
    "        \n",
    "    return token"
   ]
  },
  {
   "cell_type": "code",
   "execution_count": 5,
   "metadata": {
    "id": "x6EN0NPmn5uO"
   },
   "outputs": [],
   "source": [
    "# Reading Dataset\n",
    "url = 'data_url.csv'                        \n",
    "url_csv = pd.read_csv(url,',',error_bad_lines=False)                \n",
    "url_df = pd.DataFrame(url_csv)                                                                                             \n",
    "url_df = np.array(url_df)  \n",
    "                   \n",
    "random.shuffle(url_df)\n",
    "\n",
    "urls = [d[0] for d in url_df]               # all urls \n",
    "y = [d[1] for d in url_df]                  # all tags corresponding to urls"
   ]
  },
  {
   "cell_type": "code",
   "execution_count": 6,
   "metadata": {
    "id": "CsDAhR-DodW0",
    "scrolled": true
   },
   "outputs": [],
   "source": [
    "vectorizer = TfidfVectorizer(tokenizer=sanitization)  # term-frequency and inverse-document-frequency\n",
    "x = vectorizer.fit_transform(urls)\n",
    "x_train, x_test, y_train, y_test = train_test_split(x, y, test_size=0.2, random_state=42)  # train-test split"
   ]
  },
  {
   "cell_type": "code",
   "execution_count": 7,
   "metadata": {
    "id": "OCRGV0YqoiLe"
   },
   "outputs": [
    {
     "name": "stdout",
     "output_type": "stream",
     "text": [
      "score: 98.32 %\n"
     ]
    }
   ],
   "source": [
    "# Logistic Regression\n",
    "from sklearn.linear_model import LogisticRegression\n",
    "lgr = LogisticRegression(max_iter = 1000)                  \n",
    "lgr.fit(x_train, y_train)\n",
    "score = lgr.score(x_test, y_test)\n",
    "print(\"score: {0:.2f} %\".format(100 * score))"
   ]
  },
  {
   "cell_type": "code",
   "execution_count": 8,
   "metadata": {},
   "outputs": [
    {
     "data": {
      "image/png": "[encoded data removed]",
      "text/plain": [
       "<Figure size 432x288 with 2 Axes>"
      ]
     },
     "metadata": {
      "needs_background": "light"
     },
     "output_type": "display_data"
    }
   ],
   "source": [
    "y_pred_lgr = lgr.predict(x_test)\n",
    "cf_matrix1 = confusion_matrix(y_test,y_pred_lgr)    \n",
    "    \n",
    "ax= plt.subplot()\n",
    "sns.heatmap(cf_matrix1/np.sum(cf_matrix1), annot=True, \n",
    "            fmt='.2%', cmap='Blues', ax=ax);  \n",
    "\n",
    "# labels, title and ticks\n",
    "ax.set_xlabel('Predicted Values');ax.set_ylabel('True Values'); \n",
    "ax.set_title('Confusion Matrix For Logistic Regression'); \n",
    "ax.xaxis.set_ticklabels(['Good', 'Bad']); ax.yaxis.set_ticklabels(['Good', 'Bad']);"
   ]
  },
  {
   "cell_type": "code",
   "execution_count": 16,
   "metadata": {},
   "outputs": [
    {
     "name": "stdout",
     "output_type": "stream",
     "text": [
      "score: 99.22 %\n"
     ]
    }
   ],
   "source": [
    "# Decision Tree\n",
    "from sklearn.tree import DecisionTreeClassifier\n",
    "dct_classifier = DecisionTreeClassifier(criterion = 'entropy', random_state = 0)\n",
    "dct_classifier.fit(x_train, y_train)\n",
    "score = dct_classifier.score(x_test, y_test)\n",
    "print(\"score: {0:.2f} %\".format(100 * score))"
   ]
  },
  {
   "cell_type": "code",
   "execution_count": 22,
   "metadata": {},
   "outputs": [
    {
     "data": {
      "image/png": "[encoded data removed]",
      "text/plain": [
       "<Figure size 432x288 with 2 Axes>"
      ]
     },
     "metadata": {
      "needs_background": "light"
     },
     "output_type": "display_data"
    }
   ],
   "source": [
    "y_pred_decTree = dct_classifier.predict(x_test)\n",
    "cf_matrix2 = confusion_matrix(y_test,y_pred_decTree)\n",
    "ax= plt.subplot()\n",
    "sns.heatmap(cf_matrix2/np.sum(cf_matrix2), annot=True, \n",
    "            fmt='.2%', cmap='copper', ax=ax);  \n",
    "\n",
    "# labels, title and ticks\n",
    "ax.set_xlabel('Predicted Values');ax.set_ylabel('True Values'); \n",
    "ax.set_title('Confusion Matrix For Decision Tree'); \n",
    "ax.xaxis.set_ticklabels(['Good', 'Bad']); ax.yaxis.set_ticklabels(['Good', 'Bad']);"
   ]
  },
  {
   "cell_type": "code",
   "execution_count": null,
   "metadata": {},
   "outputs": [],
   "source": [
    "# Prediction of input QR Code\n",
    "url = qrScanner()\n",
    "x_predict = [url]\n",
    "x_predict = vectorizer.transform(x_predict)\n",
    "y_predict = lgr.predict(x_predict)\n",
    "print (y_predict)"
   ]
  },
  {
   "cell_type": "code",
   "execution_count": null,
   "metadata": {},
   "outputs": [],
   "source": []
  }
 ],
 "metadata": {
  "colab": {
   "name": "maliciousQRCode.ipynb",
   "provenance": []
  },
  "kernelspec": {
   "display_name": "Python 3",
   "language": "python",
   "name": "python3"
  },
  "language_info": {
   "codemirror_mode": {
    "name": "ipython",
    "version": 3
   },
   "file_extension": ".py",
   "mimetype": "text/x-python",
   "name": "python",
   "nbconvert_exporter": "python",
   "pygments_lexer": "ipython3",
   "version": "3.8.8"
  }
 },
 "nbformat": 4,
 "nbformat_minor": 1
}
